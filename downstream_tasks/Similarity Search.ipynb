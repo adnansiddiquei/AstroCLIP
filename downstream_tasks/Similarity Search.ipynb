{
 "cells": [
  {
   "cell_type": "markdown",
   "source": [
    "# Zero-shot similarity search\n",
    "\n",
    "In this notebook, we will use the the generated embeddings to search for similar galaxies."
   ],
   "metadata": {
    "collapsed": false
   },
   "id": "b6ae3ff4767dfd4e"
  },
  {
   "cell_type": "code",
   "outputs": [],
   "source": [
    "from astroclip.utils import load_config, format_axes, create_dir_if_required\n",
    "from astroclip.training_utils import create_dataloaders, get_cross_modal_transforms\n",
    "import matplotlib.pyplot as plt\n",
    "from utils import ToRGB\n",
    "from torchvision.transforms import CenterCrop\n",
    "\n",
    "import torch\n",
    "import numpy as np"
   ],
   "metadata": {
    "collapsed": false,
    "ExecuteTime": {
     "end_time": "2024-06-26T14:17:38.492530Z",
     "start_time": "2024-06-26T14:17:38.489891Z"
    }
   },
   "id": "f151cf3cd7d7e164",
   "execution_count": 180
  },
  {
   "cell_type": "code",
   "outputs": [
    {
     "name": "stdout",
     "output_type": "stream",
     "text": [
      "mkdir: out: File exists\r\n"
     ]
    }
   ],
   "source": [
    "!mkdir out"
   ],
   "metadata": {
    "collapsed": false,
    "ExecuteTime": {
     "end_time": "2024-06-26T14:17:38.635213Z",
     "start_time": "2024-06-26T14:17:38.504442Z"
    }
   },
   "id": "fb4cd05ac2c9b51d",
   "execution_count": 181
  },
  {
   "cell_type": "markdown",
   "source": [
    "## Load the data, and generated embeddings"
   ],
   "metadata": {
    "collapsed": false
   },
   "id": "1e0a7588f2b8f629"
  },
  {
   "cell_type": "code",
   "outputs": [
    {
     "data": {
      "text/plain": "Loading dataset shards:   0%|          | 0/80 [00:00<?, ?it/s]",
      "application/vnd.jupyter.widget-view+json": {
       "version_major": 2,
       "version_minor": 0,
       "model_id": "74c9154a4508421ca4d123356d1a2f3d"
      }
     },
     "metadata": {},
     "output_type": "display_data"
    },
    {
     "data": {
      "text/plain": "Loading dataset shards:   0%|          | 0/20 [00:00<?, ?it/s]",
      "application/vnd.jupyter.widget-view+json": {
       "version_major": 2,
       "version_minor": 0,
       "model_id": "0e02f363a9d64720a0f040461db038b6"
      }
     },
     "metadata": {},
     "output_type": "display_data"
    }
   ],
   "source": [
    "config, hparams = load_config('local', 'generate_embeddings')\n",
    "\n",
    "cache_dir = config['cache_dir']\n",
    "output_dir = config['output_dir']\n",
    "\n",
    "batch_size = hparams['batch_size']\n",
    "num_workers = config['num_workers']\n",
    "\n",
    "dataset, train_loader, val_loader = create_dataloaders(cache_dir, batch_size, num_workers, val_drop_last=False)\n",
    "val_dataset = dataset['test']\n",
    "\n",
    "# load all of the embedded spectra and images, as well as the corresponding redshifts\n",
    "all_spectrum_embeddings = torch.load(f'{cache_dir}/spectrum_embeddings.pt').numpy()\n",
    "all_image_embeddings = torch.load(f'{cache_dir}/image_embeddings.pt').numpy()\n",
    "all_redshifts = dataset['test']['redshift'].numpy()\n",
    "\n",
    "# load the valid indices, see downstream_tasks/README.md for more information on exactly what this is\n",
    "valid_indices = torch.load(f'{cache_dir}/valid_indices.pt').numpy()"
   ],
   "metadata": {
    "collapsed": false,
    "ExecuteTime": {
     "end_time": "2024-06-26T14:17:41.176191Z",
     "start_time": "2024-06-26T14:17:38.636931Z"
    }
   },
   "id": "4ae29eb77e34a170",
   "execution_count": 182
  },
  {
   "cell_type": "markdown",
   "source": [
    "## Compute the cosine similarity between all of the embeddings"
   ],
   "metadata": {
    "collapsed": false
   },
   "id": "f267919abfd057a1"
  },
  {
   "cell_type": "code",
   "outputs": [
    {
     "data": {
      "text/plain": "[Dataset({\n     features: ['image', 'spectrum', 'redshift', 'targetid'],\n     num_rows: 3\n }),\n Dataset({\n     features: ['image', 'spectrum', 'redshift', 'targetid'],\n     num_rows: 3\n }),\n Dataset({\n     features: ['image', 'spectrum', 'redshift', 'targetid'],\n     num_rows: 3\n }),\n Dataset({\n     features: ['image', 'spectrum', 'redshift', 'targetid'],\n     num_rows: 3\n }),\n Dataset({\n     features: ['image', 'spectrum', 'redshift', 'targetid'],\n     num_rows: 3\n })]"
     },
     "execution_count": 353,
     "metadata": {},
     "output_type": "execute_result"
    }
   ],
   "source": [
    "# idx_query = [] + list(np.random.randint(0, len(val_dataset), 4))\n",
    "idx_query = [300, 2650, 4253, 35171, 37886]\n",
    "\n",
    "# double check that all of the above indices are valid\n",
    "for idx in idx_query:\n",
    "    assert idx in valid_indices\n",
    "\n",
    "# extract the query image-spectra pairs from the dataset    \n",
    "query = val_dataset.select(idx_query)\n",
    "    \n",
    "# these arrays will store the most similar galaxies for each query\n",
    "idx_sp_sp = []\n",
    "idx_im_im = []\n",
    "idx_sp_im = []\n",
    "idx_im_sp = []\n",
    "\n",
    "# for each query galaxy, find the most similar galaxies (in-modal and cross-modal)\n",
    "for idx in idx_query:\n",
    "    sp_sp_sim = all_spectrum_embeddings[idx] @ all_spectrum_embeddings.T \n",
    "    im_im_sim = all_image_embeddings[idx] @ all_image_embeddings.T\n",
    "    sp_im_sim = all_spectrum_embeddings[idx] @ all_image_embeddings.T\n",
    "    im_sp_sim = all_image_embeddings[idx] @ all_spectrum_embeddings.T\n",
    "    \n",
    "    # for the given query galaxy, save the index for the 3 most similar galaxies down\n",
    "    idx_sp_sp.append(np.argsort(sp_sp_sim)[::-1][:3])\n",
    "    idx_im_im.append(np.argsort(im_im_sim)[::-1][:3])\n",
    "    idx_sp_im.append(np.argsort(sp_im_sim)[::-1][:3])\n",
    "    idx_im_sp.append(np.argsort(im_sp_sim)[::-1][:3])\n",
    "    \n",
    "# Now we extract the 3 most similar galaxies from the val_dataset for each query galaxy\n",
    "sp_sp = [val_dataset.select(idx) for idx in idx_sp_sp]\n",
    "im_im = [val_dataset.select(idx) for idx in idx_sp_sp]\n",
    "sp_im = [val_dataset.select(idx) for idx in idx_sp_im]\n",
    "im_sp = [val_dataset.select(idx) for idx in idx_im_sp]\n",
    "\n",
    "# E.g., sp_sp are the most similar galaxies based on spectrum to spectrum embedding cosine similarity\n",
    "# It has a length of 3, where sp_sp[0]['spectrum'] are the 3 most similar spectra to query['spectrum'][0]\n",
    "sp_sp"
   ],
   "metadata": {
    "collapsed": false,
    "ExecuteTime": {
     "end_time": "2024-06-26T15:35:59.562908Z",
     "start_time": "2024-06-26T15:35:59.148898Z"
    }
   },
   "id": "9500198ebc52c805",
   "execution_count": 353
  },
  {
   "cell_type": "markdown",
   "source": [
    "## Plotting the similar galaxies, by image"
   ],
   "metadata": {
    "collapsed": false
   },
   "id": "66c24e0687a5670c"
  },
  {
   "cell_type": "code",
   "outputs": [
    {
     "data": {
      "text/plain": "<Figure size 100x400 with 0 Axes>"
     },
     "metadata": {},
     "output_type": "display_data"
    }
   ],
   "source": [
    "# First we plot the images of the query galaxies\n",
    "def plot_query_galaxy_images(query_images):\n",
    "    query_images = CenterCrop(96)(query_images.permute(0, 3, 1, 2))\n",
    "    query_images = ToRGB()(query_images)\n",
    "    \n",
    "    n_rows = 4\n",
    "    fig, ax = plt.subplots(figsize=(1, n_rows), nrows=n_rows, ncols=1)\n",
    "    \n",
    "    [ax[i].imshow(query_images[i]) for i in range(n_rows)]\n",
    "    [ax[i].axis('off') for i in range(n_rows)]\n",
    "    plt.subplots_adjust(hspace=0.02, wspace=0)\n",
    "    ax[n_rows-1].set_title(r'(a) $z_{q}$', fontsize=11, y=-0.4)\n",
    "    \n",
    "    return fig, ax\n",
    "\n",
    "fig, ax = plot_query_galaxy_images(query['image'])\n",
    "plt.savefig('out/sim_search_query_images.png', bbox_inches='tight')\n",
    "plt.clf()"
   ],
   "metadata": {
    "collapsed": false,
    "ExecuteTime": {
     "end_time": "2024-06-26T15:41:07.248692Z",
     "start_time": "2024-06-26T15:41:07.193033Z"
    }
   },
   "id": "d4ae04c580e19779",
   "execution_count": 367
  },
  {
   "cell_type": "code",
   "outputs": [
    {
     "data": {
      "text/plain": "<Figure size 300x400 with 0 Axes>"
     },
     "metadata": {},
     "output_type": "display_data"
    },
    {
     "data": {
      "text/plain": "<Figure size 300x400 with 0 Axes>"
     },
     "metadata": {},
     "output_type": "display_data"
    },
    {
     "data": {
      "text/plain": "<Figure size 300x400 with 0 Axes>"
     },
     "metadata": {},
     "output_type": "display_data"
    },
    {
     "data": {
      "text/plain": "<Figure size 300x400 with 0 Axes>"
     },
     "metadata": {},
     "output_type": "display_data"
    }
   ],
   "source": [
    "def plot_image(images, title):\n",
    "    nrows, ncols = 4, 3\n",
    "    fig, ax = plt.subplots(figsize=(ncols, nrows), nrows=nrows, ncols=ncols)\n",
    "    \n",
    "    for row in range(nrows):\n",
    "        for col in range(ncols):\n",
    "            similar_image = images[row]['image'][col]\n",
    "            similar_image = CenterCrop(96)(similar_image.permute(2, 0, 1))\n",
    "            similar_image = ToRGB()(similar_image)\n",
    "            \n",
    "            ax[row, col].imshow(similar_image)\n",
    "            \n",
    "    [ax[row, col].axis('off') for row in range(nrows) for col in range(ncols)]\n",
    "    plt.subplots_adjust(hspace=0.02, wspace=0.02)\n",
    "    \n",
    "    ax[3, 1].set_title(title, fontsize=11, y=-0.4)\n",
    "            \n",
    "    return fig, ax\n",
    "\n",
    "latex_im_im = r'$S_{C}(\\mathbf{z}_{q}^{im}, \\mathbf{z}^{im})$'\n",
    "latex_sp_sp = r'$S_{C}(\\mathbf{z}_{q}^{sp}, \\mathbf{z}^{sp})$'\n",
    "latex_sp_im = r'$S_{C}(\\mathbf{z}_{q}^{sp}, \\mathbf{z}^{im})$'\n",
    "latex_im_sp = r'$S_{C}(\\mathbf{z}_{q}^{im}, \\mathbf{z}^{sp})$'\n",
    "\n",
    "plot_image(im_im, title=r'(b) ' + latex_im_im)\n",
    "plt.savefig('out/sim_search_img_img.png', bbox_inches='tight')\n",
    "plt.clf()\n",
    "\n",
    "plot_image(sp_sp, title=r'(c) ' + latex_sp_sp)\n",
    "plt.savefig('out/sim_search_sp_sp.png', bbox_inches='tight')\n",
    "plt.clf()\n",
    "\n",
    "plot_image(sp_im, title=r'(d) ' + latex_sp_im)\n",
    "plt.savefig('out/sim_search_sp_im.png', bbox_inches='tight')\n",
    "plt.clf()\n",
    "\n",
    "plot_image(im_sp, title=r'(e) ' + latex_im_sp)\n",
    "plt.savefig('out/sim_search_im_sp.png', bbox_inches='tight')\n",
    "plt.clf()"
   ],
   "metadata": {
    "collapsed": false,
    "ExecuteTime": {
     "end_time": "2024-06-26T15:41:27.918401Z",
     "start_time": "2024-06-26T15:41:27.025973Z"
    }
   },
   "id": "a1a26bc4c05058a6",
   "execution_count": 369
  },
  {
   "cell_type": "markdown",
   "source": [
    "## Plotting the similar galaxies, by spectra"
   ],
   "metadata": {
    "collapsed": false
   },
   "id": "a79951f9ae5292d7"
  },
  {
   "cell_type": "code",
   "outputs": [],
   "source": [
    "def plot_spectrum(\n",
    "        query_spectrum, \n",
    "        query_image, \n",
    "        retrieved_spectra_im_im, \n",
    "        retrieved_spectra_sp_sp, \n",
    "        retrieved_spectra_im_sp, \n",
    "        retrieved_spectra_sp_im,  \n",
    "        inset_ax_pos,\n",
    "        titles,\n",
    "        xlim = None,\n",
    "        query_spec_color='darkred'\n",
    "):\n",
    "    fig, ax = plt.subplots(figsize=(16, 3), nrows=1, ncols=4)\n",
    "    \n",
    "    subset = np.arange(0, 7781, 10)\n",
    "    wavelengths = np.linspace(3600.0, 9824.0, 7781)\n",
    "    n_spectrum = 3\n",
    "\n",
    "    for idx, retrieved_spectra in enumerate([retrieved_spectra_im_im, retrieved_spectra_sp_sp, retrieved_spectra_im_sp, retrieved_spectra_sp_im]):\n",
    "        for i in range(n_spectrum):\n",
    "            if i != n_spectrum - 1:\n",
    "                ax[idx].plot(\n",
    "                    wavelengths[subset], \n",
    "                    retrieved_spectra[i].flatten()[subset], alpha=0.5, lw=0.7, color='grey'\n",
    "                )\n",
    "            else: \n",
    "                ax[idx].plot(\n",
    "                    wavelengths[subset], \n",
    "                    retrieved_spectra[i].flatten()[subset], alpha=0.5, lw=0.7, label='Retrieved Spectra', color='grey'\n",
    "                )\n",
    "        \n",
    "        ax[idx].set_title(titles[idx], fontsize=11, y=-0.32)\n",
    "        ax[idx].plot(wavelengths[subset], query_spectrum[subset], label='Query spectrum', lw=0.7, color=query_spec_color)\n",
    "        \n",
    "        if xlim is not None:\n",
    "            ax[idx].set_ylim(*xlim)\n",
    "\n",
    "        \n",
    "        ax[idx].set_xlabel(r'$\\lambda$')\n",
    "\n",
    "        inset_ax = fig.add_axes(inset_ax_pos)\n",
    "        image = ToRGB()(query_image)\n",
    "        inset_ax.imshow(image)\n",
    "        inset_ax.axis('off')\n",
    "    \n",
    "    ax[0].set_ylabel('Flux')\n",
    "    ax[0].legend()\n",
    "\n",
    "    return fig, ax"
   ],
   "metadata": {
    "collapsed": false,
    "ExecuteTime": {
     "end_time": "2024-06-26T15:36:14.285188Z",
     "start_time": "2024-06-26T15:36:14.281420Z"
    }
   },
   "id": "ba7ae97a82f9d213",
   "execution_count": 358
  },
  {
   "cell_type": "code",
   "outputs": [
    {
     "data": {
      "text/plain": "<Figure size 1600x300 with 0 Axes>"
     },
     "metadata": {},
     "output_type": "display_data"
    }
   ],
   "source": [
    "idx = 1\n",
    "\n",
    "fig, ax = plot_spectrum(\n",
    "    query['spectrum'][idx].flatten(), \n",
    "    query['image'][idx],  \n",
    "    im_im[idx]['spectrum'],\n",
    "    sp_sp[idx]['spectrum'],\n",
    "    im_sp[idx]['spectrum'], \n",
    "    sp_im[idx]['spectrum'],\n",
    "    [0.405, 0.15, 0.12, 0.25],\n",
    "    [\n",
    "        '(a) ' + latex_im_im, '(b) ' + latex_sp_sp, '(c) ' + latex_im_sp, '(d) ' + latex_sp_im\n",
    "    ],\n",
    "    xlim=(-15, 20)\n",
    ")\n",
    "\n",
    "plt.savefig('out/sim_search_spec_1', bbox_inches='tight')\n",
    "plt.clf()"
   ],
   "metadata": {
    "collapsed": false,
    "ExecuteTime": {
     "end_time": "2024-06-26T15:41:33.250403Z",
     "start_time": "2024-06-26T15:41:32.897852Z"
    }
   },
   "id": "32319b327dc29d33",
   "execution_count": 370
  },
  {
   "cell_type": "code",
   "outputs": [
    {
     "data": {
      "text/plain": "<Figure size 1600x300 with 0 Axes>"
     },
     "metadata": {},
     "output_type": "display_data"
    }
   ],
   "source": [
    "idx = 4\n",
    "fig, ax = plot_spectrum(\n",
    "    query['spectrum'][idx].flatten(), \n",
    "    query['image'][idx],  \n",
    "    im_im[idx]['spectrum'],\n",
    "    sp_sp[idx]['spectrum'],\n",
    "    im_sp[idx]['spectrum'], \n",
    "    sp_im[idx]['spectrum'],\n",
    "    [0.405, 0.15, 0.12, 0.25],\n",
    "    [\n",
    "        '(a) ' + latex_im_im, '(b) ' + latex_sp_sp, '(c) ' + latex_im_sp, '(d) ' + latex_sp_im\n",
    "    ],\n",
    "    xlim=(-15, 20)\n",
    ")\n",
    "\n",
    "plt.savefig('out/sim_search_spec_2', bbox_inches='tight')\n",
    "plt.clf()"
   ],
   "metadata": {
    "collapsed": false,
    "ExecuteTime": {
     "end_time": "2024-06-26T15:41:35.841408Z",
     "start_time": "2024-06-26T15:41:35.328933Z"
    }
   },
   "id": "b4c72e02eaad35d5",
   "execution_count": 371
  }
 ],
 "metadata": {
  "kernelspec": {
   "display_name": "Python 3",
   "language": "python",
   "name": "python3"
  },
  "language_info": {
   "codemirror_mode": {
    "name": "ipython",
    "version": 2
   },
   "file_extension": ".py",
   "mimetype": "text/x-python",
   "name": "python",
   "nbconvert_exporter": "python",
   "pygments_lexer": "ipython2",
   "version": "2.7.6"
  }
 },
 "nbformat": 4,
 "nbformat_minor": 5
}
